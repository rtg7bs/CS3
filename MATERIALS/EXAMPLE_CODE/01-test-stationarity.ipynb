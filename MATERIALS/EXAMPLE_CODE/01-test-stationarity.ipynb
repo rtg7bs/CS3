{
 "cells": [
  {
   "cell_type": "markdown",
   "metadata": {},
   "source": [
    "This script tests the stationarity of your time series data by performing the Augmented Dickey-Fuller (ADF) Test. First, the code reads in 1 of the 3 CSV files included in the DATA folder and performs the ADF test on the data that was read in. To determine whether the data is stationary, read the print statement that was outputted by the main code chunk that performs the ADF test."
   ]
  },
  {
   "cell_type": "code",
   "execution_count": 1,
   "metadata": {},
   "outputs": [],
   "source": [
    "import pandas as pd\n",
    "import matplotlib.pyplot as plt\n",
    "from statsmodels.tsa.stattools import adfuller"
   ]
  },
  {
   "cell_type": "code",
   "execution_count": 2,
   "metadata": {},
   "outputs": [
    {
     "name": "stdout",
     "output_type": "stream",
     "text": [
      "<class 'pandas.core.frame.DataFrame'>\n",
      "RangeIndex: 4032 entries, 0 to 4031\n",
      "Data columns (total 2 columns):\n",
      " #   Column     Non-Null Count  Dtype  \n",
      "---  ------     --------------  -----  \n",
      " 0   timestamp  4032 non-null   object \n",
      " 1   value      4032 non-null   float64\n",
      "dtypes: float64(1), object(1)\n",
      "memory usage: 63.1+ KB\n"
     ]
    }
   ],
   "source": [
    "# read in the data\n",
    "cpu_util_df = pd.read_csv(\"/Users/christinetsai/Desktop/ds4002/02-time-series-project/ds4002-project2/DATA/ec2_cpu_utilization_53ea38.csv\")\n",
    "cpu_util_df.info()"
   ]
  },
  {
   "cell_type": "code",
   "execution_count": 3,
   "metadata": {},
   "outputs": [
    {
     "name": "stdout",
     "output_type": "stream",
     "text": [
      "ADF Statistic (Original): -9.8419\n",
      "p-value (Original): 0.0000\n",
      "Interpretation: The original series is Stationary.\n",
      "\n",
      "ADF Statistic (Differenced): -17.2580\n",
      "p-value (Differenced): 0.0000\n",
      "Interpretation: The differenced series is Stationary.\n"
     ]
    }
   ],
   "source": [
    "# perform the Augmented Dickey-Fuller test on the original series\n",
    "result_original = adfuller(cpu_util_df[\"value\"])\n",
    "\n",
    "print(f\"ADF Statistic (Original): {result_original[0]:.4f}\")\n",
    "print(f\"p-value (Original): {result_original[1]:.4f}\")\n",
    "\n",
    "if result_original[1] < 0.05:\n",
    "    print(\"Interpretation: The original series is Stationary.\\n\")\n",
    "else:\n",
    "    print(\"Interpretation: The original series is Non-Stationary.\\n\")\n",
    "\n",
    "# Apply first-order differencing\n",
    "cpu_util_df['val_diff'] = cpu_util_df['value'].diff()\n",
    "\n",
    "# Perform the Augmented Dickey-Fuller test on the differenced series\n",
    "result_diff = adfuller(cpu_util_df[\"val_diff\"].dropna())\n",
    "print(f\"ADF Statistic (Differenced): {result_diff[0]:.4f}\")\n",
    "print(f\"p-value (Differenced): {result_diff[1]:.4f}\")\n",
    "if result_diff[1] < 0.05:\n",
    "    print(\"Interpretation: The differenced series is Stationary.\")\n",
    "else:\n",
    "    print(\"Interpretation: The differenced series is Non-Stationary.\")"
   ]
  }
 ],
 "metadata": {
  "kernelspec": {
   "display_name": "base",
   "language": "python",
   "name": "python3"
  },
  "language_info": {
   "codemirror_mode": {
    "name": "ipython",
    "version": 3
   },
   "file_extension": ".py",
   "mimetype": "text/x-python",
   "name": "python",
   "nbconvert_exporter": "python",
   "pygments_lexer": "ipython3",
   "version": "3.11.4"
  }
 },
 "nbformat": 4,
 "nbformat_minor": 2
}
